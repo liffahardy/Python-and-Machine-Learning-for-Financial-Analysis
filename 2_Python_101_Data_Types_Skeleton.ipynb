{
  "nbformat": 4,
  "nbformat_minor": 0,
  "metadata": {
    "colab": {
      "provenance": [],
      "gpuType": "T4",
      "include_colab_link": true
    },
    "kernelspec": {
      "name": "python3",
      "display_name": "Python 3"
    },
    "accelerator": "GPU"
  },
  "cells": [
    {
      "cell_type": "markdown",
      "metadata": {
        "id": "view-in-github",
        "colab_type": "text"
      },
      "source": [
        "<a href=\"https://colab.research.google.com/github/liffahardy/Python-and-Machine-Learning-for-Financial-Analysis/blob/main/2_Python_101_Data_Types_Skeleton.ipynb\" target=\"_parent\"><img src=\"https://colab.research.google.com/assets/colab-badge.svg\" alt=\"Open In Colab\"/></a>"
      ]
    },
    {
      "cell_type": "markdown",
      "metadata": {
        "id": "jAvAN1PiB8bc"
      },
      "source": [
        "# 1. BOOLEANS"
      ]
    },
    {
      "cell_type": "code",
      "metadata": {
        "id": "nQxJN0ShB_Ae",
        "colab": {
          "base_uri": "https://localhost:8080/"
        },
        "outputId": "71a66e96-1513-4f5f-a67b-c5321499c9ad"
      },
      "source": [
        "# Boolean values can be represented as one of two constant objects \"False\" and \"True\".\n",
        "# Booleans behave like integers 0 and 1.\n",
        "True"
      ],
      "execution_count": 1,
      "outputs": [
        {
          "output_type": "execute_result",
          "data": {
            "text/plain": [
              "True"
            ]
          },
          "metadata": {},
          "execution_count": 1
        }
      ]
    },
    {
      "cell_type": "code",
      "metadata": {
        "id": "MWOLRKg-B_D6",
        "colab": {
          "base_uri": "https://localhost:8080/"
        },
        "outputId": "25f36652-defa-41be-cd50-5e75ddefbcdf"
      },
      "source": [
        "False"
      ],
      "execution_count": 4,
      "outputs": [
        {
          "output_type": "execute_result",
          "data": {
            "text/plain": [
              "False"
            ]
          },
          "metadata": {},
          "execution_count": 4
        }
      ]
    },
    {
      "cell_type": "code",
      "metadata": {
        "id": "oDfoK28ZB_SO",
        "colab": {
          "base_uri": "https://localhost:8080/"
        },
        "outputId": "baedd536-6f44-494d-ec30-c2183216b735"
      },
      "source": [
        "stock_1_price = 200\n",
        "stock_2_price = 200\n",
        "print(stock_1_price == stock_2_price)"
      ],
      "execution_count": 6,
      "outputs": [
        {
          "output_type": "stream",
          "name": "stdout",
          "text": [
            "True\n"
          ]
        }
      ]
    },
    {
      "cell_type": "markdown",
      "metadata": {
        "id": "zK3GTZaCFwNt"
      },
      "source": [
        "**MINI CHALLENGE #1:**\n",
        "- **What will this code generate?**\n",
        "```\n",
        "stock_1_price = 20\n",
        "stock_2_price = 30\n",
        "print((stock_1_price < stock_2_price))\n",
        "print(stock_1_price == stock_2_price)\n",
        "```"
      ]
    },
    {
      "cell_type": "code",
      "metadata": {
        "id": "Fk7waP-xUtan",
        "colab": {
          "base_uri": "https://localhost:8080/"
        },
        "outputId": "f7d9dfbd-31d8-471b-e179-893615002e28"
      },
      "source": [
        "stock_1_price = 20\n",
        "stock_2_price = 30\n",
        "print((stock_1_price < stock_2_price))\n",
        "print(stock_1_price == stock_2_price)"
      ],
      "execution_count": 7,
      "outputs": [
        {
          "output_type": "stream",
          "name": "stdout",
          "text": [
            "True\n",
            "False\n"
          ]
        }
      ]
    },
    {
      "cell_type": "markdown",
      "metadata": {
        "id": "_5r-dUNX7nfy"
      },
      "source": [
        "# 2. LIST"
      ]
    },
    {
      "cell_type": "code",
      "metadata": {
        "id": "F27HZd8a60zD",
        "colab": {
          "base_uri": "https://localhost:8080/"
        },
        "outputId": "39afb965-ff9b-433b-8cba-de114a04a6da"
      },
      "source": [
        "# A list is a collection which is ordered and changeable.\n",
        "# List allows duplicate members.\n",
        "my_list = [1, 2, 3]\n",
        "my_list"
      ],
      "execution_count": 10,
      "outputs": [
        {
          "output_type": "execute_result",
          "data": {
            "text/plain": [
              "[1, 2, 3]"
            ]
          },
          "metadata": {},
          "execution_count": 10
        }
      ]
    },
    {
      "cell_type": "code",
      "metadata": {
        "id": "AeHE6akU70RX",
        "colab": {
          "base_uri": "https://localhost:8080/"
        },
        "outputId": "eb212075-ab78-4e2e-d472-35a8cb0dd563"
      },
      "source": [
        "# Obtain the datatype\n",
        "type(my_list)"
      ],
      "execution_count": 12,
      "outputs": [
        {
          "output_type": "execute_result",
          "data": {
            "text/plain": [
              "list"
            ]
          },
          "metadata": {},
          "execution_count": 12
        }
      ]
    },
    {
      "cell_type": "code",
      "metadata": {
        "id": "qaiXmQs570Vv",
        "colab": {
          "base_uri": "https://localhost:8080/"
        },
        "outputId": "e51d6f78-d1b4-4bbf-a2e1-5cc28d75067a"
      },
      "source": [
        "# list with mixed datatypes (for example you can have strings and integers in one list)\n",
        "my_list_2 = [1, 2, \"GOOG\", 5]\n",
        "my_list_2"
      ],
      "execution_count": 14,
      "outputs": [
        {
          "output_type": "execute_result",
          "data": {
            "text/plain": [
              "[1, 2, 'GOOG', 5]"
            ]
          },
          "metadata": {},
          "execution_count": 14
        }
      ]
    },
    {
      "cell_type": "code",
      "metadata": {
        "id": "PNJjE3qX70YR",
        "colab": {
          "base_uri": "https://localhost:8080/"
        },
        "outputId": "78ade87d-2c65-4b7d-f2d6-98c4ff51f25c"
      },
      "source": [
        "# You can have a list inside another list (nested list)\n",
        "my_list_3 = [\"GOOG\", [3, 6, 7]]\n",
        "my_list_3"
      ],
      "execution_count": 15,
      "outputs": [
        {
          "output_type": "execute_result",
          "data": {
            "text/plain": [
              "['GOOG', [3, 6, 7]]"
            ]
          },
          "metadata": {},
          "execution_count": 15
        }
      ]
    },
    {
      "cell_type": "code",
      "metadata": {
        "id": "XZZiMb2c70f6",
        "colab": {
          "base_uri": "https://localhost:8080/"
        },
        "outputId": "74969b3d-b75d-4d5f-d2f5-5a89da5fb6b0"
      },
      "source": [
        "# Access specific elements in the list with Indexing\n",
        "# Note that the first element in the list has an index of 0 (little confusing but you'll get used to it!)\n",
        "my_list_4 = [2, \"GOOG\", 5]\n",
        "my_list_4[0]\n",
        "my_list_4[1]\n",
        "my_list_4[2]"
      ],
      "execution_count": 18,
      "outputs": [
        {
          "output_type": "execute_result",
          "data": {
            "text/plain": [
              "5"
            ]
          },
          "metadata": {},
          "execution_count": 18
        }
      ]
    },
    {
      "cell_type": "code",
      "metadata": {
        "id": "I6z3Ls6R70iU",
        "colab": {
          "base_uri": "https://localhost:8080/",
          "height": 36
        },
        "outputId": "ae22cb6e-8954-46b1-a7bb-5dc5f0351f4e"
      },
      "source": [
        "# indexing for nested lists\n",
        "my_list_5 = [\"GOOG\", [3, 6, 7], [\"AAPL\", 5, 6]]\n",
        "\n",
        "my_list_5[2][0]"
      ],
      "execution_count": 24,
      "outputs": [
        {
          "output_type": "execute_result",
          "data": {
            "text/plain": [
              "'AAPL'"
            ],
            "application/vnd.google.colaboratory.intrinsic+json": {
              "type": "string"
            }
          },
          "metadata": {},
          "execution_count": 24
        }
      ]
    },
    {
      "cell_type": "code",
      "metadata": {
        "id": "5Bx9hZPc70o4",
        "colab": {
          "base_uri": "https://localhost:8080/"
        },
        "outputId": "ea6495c9-d95c-4366-8611-a7ee8ceaed49"
      },
      "source": [
        "my_list_5[1][1]"
      ],
      "execution_count": 25,
      "outputs": [
        {
          "output_type": "execute_result",
          "data": {
            "text/plain": [
              "6"
            ]
          },
          "metadata": {},
          "execution_count": 25
        }
      ]
    },
    {
      "cell_type": "code",
      "metadata": {
        "id": "hEHd__Zr70nj",
        "colab": {
          "base_uri": "https://localhost:8080/"
        },
        "outputId": "32ec5afb-a4b9-4c47-dd8f-35dd3df613c9"
      },
      "source": [
        "my_list_5[2]"
      ],
      "execution_count": 26,
      "outputs": [
        {
          "output_type": "execute_result",
          "data": {
            "text/plain": [
              "['AAPL', 5, 6]"
            ]
          },
          "metadata": {},
          "execution_count": 26
        }
      ]
    },
    {
      "cell_type": "code",
      "metadata": {
        "id": "4KVMQSCO70lg",
        "colab": {
          "base_uri": "https://localhost:8080/"
        },
        "outputId": "81f3dc71-4718-4d7b-9571-505ebcd20ee3"
      },
      "source": [
        "# Negative Indexing\n",
        "my_list_6 = [2, \"GOOG\", 5]\n",
        "my_list_6[-1]"
      ],
      "execution_count": 28,
      "outputs": [
        {
          "output_type": "execute_result",
          "data": {
            "text/plain": [
              "5"
            ]
          },
          "metadata": {},
          "execution_count": 28
        }
      ]
    },
    {
      "cell_type": "code",
      "metadata": {
        "id": "-Bw1wI_h70dw",
        "colab": {
          "base_uri": "https://localhost:8080/"
        },
        "outputId": "63ddfa0f-8408-46a9-d175-996caeee2d67"
      },
      "source": [
        "# List Slicing (getting more than one element from a list)\n",
        "my_list_7 = [2, 5, 7, \"GOOG\", \"SP500\", \"AMZN\", 15]\n",
        "# obtain elements starting from index 3 up to and not including element with index 6\n",
        "my_list_7[3:6]"
      ],
      "execution_count": 30,
      "outputs": [
        {
          "output_type": "execute_result",
          "data": {
            "text/plain": [
              "['GOOG', 'SP500', 'AMZN', 15]"
            ]
          },
          "metadata": {},
          "execution_count": 30
        }
      ]
    },
    {
      "cell_type": "code",
      "metadata": {
        "id": "VGsNNIpn9ILB",
        "colab": {
          "base_uri": "https://localhost:8080/"
        },
        "outputId": "e8be2262-d0b2-48c5-ebb2-36e0aec5b05d"
      },
      "source": [
        "# Obtain elements starting from index 3 to end\n",
        "my_list_7[3:]"
      ],
      "execution_count": 31,
      "outputs": [
        {
          "output_type": "execute_result",
          "data": {
            "text/plain": [
              "['GOOG', 'SP500', 'AMZN', 15]"
            ]
          },
          "metadata": {},
          "execution_count": 31
        }
      ]
    },
    {
      "cell_type": "code",
      "metadata": {
        "id": "W0Z8oCAC9IJL",
        "colab": {
          "base_uri": "https://localhost:8080/"
        },
        "outputId": "68f3a27b-8da2-49fe-fb66-7c74b74c6ce4"
      },
      "source": [
        "# All elements start to end\n",
        "my_list_7[:]"
      ],
      "execution_count": 32,
      "outputs": [
        {
          "output_type": "execute_result",
          "data": {
            "text/plain": [
              "[2, 5, 7, 'GOOG', 'SP500', 'AMZN', 15]"
            ]
          },
          "metadata": {},
          "execution_count": 32
        }
      ]
    },
    {
      "cell_type": "code",
      "metadata": {
        "id": "Z4sY6MEJ9IGv",
        "colab": {
          "base_uri": "https://localhost:8080/"
        },
        "outputId": "34ec30be-a6a8-41ce-9efd-7e80b51e4362"
      },
      "source": [
        "# Obtain the length of the list (how many elements in the list)\n",
        "len(my_list_7)"
      ],
      "execution_count": 33,
      "outputs": [
        {
          "output_type": "execute_result",
          "data": {
            "text/plain": [
              "7"
            ]
          },
          "metadata": {},
          "execution_count": 33
        }
      ]
    },
    {
      "cell_type": "markdown",
      "metadata": {
        "id": "Q1qcVBl7G1GO"
      },
      "source": [
        "**MINI CHALLENGE #2:**\n",
        "- **Print the first, second and last element in the list below**\n",
        "- **Print all elements in the list, first 3 elements, and last three elements**\n",
        "\n",
        "```\n",
        "stocks = [\"GOOG\", \"TSLA\", \"AAPL\", \"T\", \"SP500\", \"BTC\", \"EUR/USD\"]\n",
        "```\n",
        "\n"
      ]
    },
    {
      "cell_type": "code",
      "metadata": {
        "id": "adQzmLx7Y7p7",
        "colab": {
          "base_uri": "https://localhost:8080/"
        },
        "outputId": "c681bbf8-bcb7-4a59-8d00-1e7973f6d341"
      },
      "source": [
        "stocks = [\"GOOG\", \"TSLA\", \"AAPL\", \"T\", \"SP500\", \"BTC\", \"EUR/USD\"]\n",
        "print(stocks[0])\n",
        "print(stocks[1])\n",
        "print(stocks[-1])"
      ],
      "execution_count": 39,
      "outputs": [
        {
          "output_type": "stream",
          "name": "stdout",
          "text": [
            "GOOG\n",
            "TSLA\n",
            "EUR/USD\n"
          ]
        }
      ]
    },
    {
      "cell_type": "code",
      "source": [
        "print(stocks[:])\n",
        "print(stocks[0:3])\n",
        "print(stocks[-3:])"
      ],
      "metadata": {
        "colab": {
          "base_uri": "https://localhost:8080/"
        },
        "id": "bIWFu1NUG5hV",
        "outputId": "f9c7745e-ca0b-403a-b0ad-9fd6f2fb7332"
      },
      "execution_count": 42,
      "outputs": [
        {
          "output_type": "stream",
          "name": "stdout",
          "text": [
            "['GOOG', 'TSLA', 'AAPL', 'T', 'SP500', 'BTC', 'EUR/USD']\n",
            "['GOOG', 'TSLA', 'AAPL']\n",
            "['SP500', 'BTC', 'EUR/USD']\n"
          ]
        }
      ]
    },
    {
      "cell_type": "code",
      "source": [],
      "metadata": {
        "id": "UWBPmYiHG2LQ"
      },
      "execution_count": null,
      "outputs": []
    },
    {
      "cell_type": "markdown",
      "metadata": {
        "id": "pqPdr6RNINsf"
      },
      "source": [
        "**MINI CHALLENGE #3:**\n",
        "- **Print GOOG**\n",
        "- **Print AAPL, GOOG, TSLA**\n",
        "- **Print T with two different ways**\n",
        "\n",
        "```\n",
        "my_list = [\"SP500\", [\"AAPL\", \"GOOG\", \"TSLA\"], \"BTC\", \"T\"]\n",
        "```\n"
      ]
    },
    {
      "cell_type": "code",
      "source": [
        "my_list = [\"SP500\", [\"AAPL\", \"GOOG\", \"TSLA\"], \"BTC\", \"T\"]"
      ],
      "metadata": {
        "id": "DRxok_9cHRK1"
      },
      "execution_count": 45,
      "outputs": []
    },
    {
      "cell_type": "code",
      "source": [
        "print(my_list[1][1])\n",
        "print(my_list[1])\n",
        "print(my_list[-1])\n",
        "print(my_list[3])"
      ],
      "metadata": {
        "colab": {
          "base_uri": "https://localhost:8080/"
        },
        "id": "60O1v35cHWjj",
        "outputId": "d6ef0e6b-b5e4-4c1a-b6ab-53140be44892"
      },
      "execution_count": 49,
      "outputs": [
        {
          "output_type": "stream",
          "name": "stdout",
          "text": [
            "GOOG\n",
            "['AAPL', 'GOOG', 'TSLA']\n",
            "T\n",
            "T\n"
          ]
        }
      ]
    },
    {
      "cell_type": "markdown",
      "metadata": {
        "id": "7a2j5iF8CYCU"
      },
      "source": [
        "# 3. DICTIONARY"
      ]
    },
    {
      "cell_type": "code",
      "metadata": {
        "id": "RrxN16VRCbyz"
      },
      "source": [
        "# my_dict = {'key1':'value1', 'key2':'value2', 'key3':'value3'}\n",
        "# Dictionary consists of a collection of key-value pairs. Each key-value pair maps the key to its corresponding value.\n",
        "# Keys are unique within a dictionary while values may not be.\n",
        "# List elements are accessed by their position in the list, via indexing while Dictionary elements are accessed via keys\n",
        "\n",
        "# Define a dictionary using key-value pairs\n",
        "my_dict = { \"key1\" : \"value1\",\n",
        "            \"key2\" : \"value2\",\n",
        "            \"key3\" : \"value3\"\n",
        "          }"
      ],
      "execution_count": 50,
      "outputs": []
    },
    {
      "cell_type": "code",
      "metadata": {
        "id": "dToa9hHWCcO5",
        "colab": {
          "base_uri": "https://localhost:8080/"
        },
        "outputId": "2b9dc6ff-efda-415b-9759-f5e6fe11279f"
      },
      "source": [
        "# View the dictionary\n",
        "my_dict"
      ],
      "execution_count": 51,
      "outputs": [
        {
          "output_type": "execute_result",
          "data": {
            "text/plain": [
              "{'key1': 'value1', 'key2': 'value2', 'key3': 'value3'}"
            ]
          },
          "metadata": {},
          "execution_count": 51
        }
      ]
    },
    {
      "cell_type": "code",
      "metadata": {
        "id": "KczBnCdmCcA5",
        "colab": {
          "base_uri": "https://localhost:8080/"
        },
        "outputId": "614dbd15-6d9d-41f1-b81a-ead6cd728737"
      },
      "source": [
        "# Check the data type\n",
        "type(my_dict)"
      ],
      "execution_count": 52,
      "outputs": [
        {
          "output_type": "execute_result",
          "data": {
            "text/plain": [
              "dict"
            ]
          },
          "metadata": {},
          "execution_count": 52
        }
      ]
    },
    {
      "cell_type": "code",
      "metadata": {
        "id": "dThsTYeaCb-l",
        "colab": {
          "base_uri": "https://localhost:8080/",
          "height": 36
        },
        "outputId": "06a75be2-4be9-45e4-8664-f128487f4f77"
      },
      "source": [
        "# Access specific element in the dictionary using a specific key (ex: Key2)\n",
        "my_dict[\"key2\"]"
      ],
      "execution_count": 53,
      "outputs": [
        {
          "output_type": "execute_result",
          "data": {
            "text/plain": [
              "'value2'"
            ],
            "application/vnd.google.colaboratory.intrinsic+json": {
              "type": "string"
            }
          },
          "metadata": {},
          "execution_count": 53
        }
      ]
    },
    {
      "cell_type": "code",
      "metadata": {
        "id": "Li70lw0jCb87",
        "colab": {
          "base_uri": "https://localhost:8080/"
        },
        "outputId": "26562b85-dbcf-4c9b-80b5-06d36567f2a3"
      },
      "source": [
        "# Define a dictionary for a bank client listing all his/her assets!\n",
        "client_assets = {\"Real Estate\" : 150000,\n",
        "                 \"Stocks\" : 10000,\n",
        "                 \"Savings\" : 20000\n",
        "                }\n",
        "print(client_assets)"
      ],
      "execution_count": 54,
      "outputs": [
        {
          "output_type": "stream",
          "name": "stdout",
          "text": [
            "{'Real Estate': 150000, 'Stocks': 10000, 'Savings': 20000}\n"
          ]
        }
      ]
    },
    {
      "cell_type": "code",
      "metadata": {
        "id": "G_I_rJsWCb6E",
        "colab": {
          "base_uri": "https://localhost:8080/"
        },
        "outputId": "c3aa1575-3123-45ea-f2ad-8317eb1be3a1"
      },
      "source": [
        "# Access elements in the dictionary\n",
        "client_assets[\"Stocks\"]"
      ],
      "execution_count": 55,
      "outputs": [
        {
          "output_type": "execute_result",
          "data": {
            "text/plain": [
              "10000"
            ]
          },
          "metadata": {},
          "execution_count": 55
        }
      ]
    },
    {
      "cell_type": "code",
      "metadata": {
        "id": "1DigIhEQCb3x"
      },
      "source": [
        "# Add a new item to an existing dictionary\n",
        "client_assets[\"Crypto\"] = 1500"
      ],
      "execution_count": 56,
      "outputs": []
    },
    {
      "cell_type": "code",
      "source": [
        "print(client_assets)"
      ],
      "metadata": {
        "colab": {
          "base_uri": "https://localhost:8080/"
        },
        "id": "CvJy3sFeKCAy",
        "outputId": "a2042f9a-fd78-4c9e-d6f9-f232583bf0ac"
      },
      "execution_count": 57,
      "outputs": [
        {
          "output_type": "stream",
          "name": "stdout",
          "text": [
            "{'Real Estate': 150000, 'Stocks': 10000, 'Savings': 20000, 'Crypto': 1500}\n"
          ]
        }
      ]
    },
    {
      "cell_type": "code",
      "metadata": {
        "id": "m05N8LIiCb0_",
        "colab": {
          "base_uri": "https://localhost:8080/"
        },
        "outputId": "109b07b8-683c-484b-ccb9-c7048daa0da6"
      },
      "source": [
        "# remove an item from the dictionary\n",
        "del client_assets[\"Savings\"]\n",
        "print(client_assets)"
      ],
      "execution_count": 58,
      "outputs": [
        {
          "output_type": "stream",
          "name": "stdout",
          "text": [
            "{'Real Estate': 150000, 'Stocks': 10000, 'Crypto': 1500}\n"
          ]
        }
      ]
    },
    {
      "cell_type": "code",
      "metadata": {
        "id": "c4GKclEzCoMe",
        "colab": {
          "base_uri": "https://localhost:8080/",
          "height": 176
        },
        "outputId": "ffabe94c-14f1-4756-86b0-6dd283f2cb0f"
      },
      "source": [
        "# delete the entire dictionary\n",
        "# Note that you cannot print it out again because the entire dictionary has been deleted\n",
        "del client_assets\n",
        "print(client_assets)"
      ],
      "execution_count": 59,
      "outputs": [
        {
          "output_type": "error",
          "ename": "NameError",
          "evalue": "name 'client_assets' is not defined",
          "traceback": [
            "\u001b[0;31m---------------------------------------------------------------------------\u001b[0m",
            "\u001b[0;31mNameError\u001b[0m                                 Traceback (most recent call last)",
            "\u001b[0;32m/tmp/ipython-input-3455024020.py\u001b[0m in \u001b[0;36m<cell line: 0>\u001b[0;34m()\u001b[0m\n\u001b[1;32m      2\u001b[0m \u001b[0;31m# Note that you cannot print it out again because the entire dictionary has been deleted\u001b[0m\u001b[0;34m\u001b[0m\u001b[0;34m\u001b[0m\u001b[0m\n\u001b[1;32m      3\u001b[0m \u001b[0;32mdel\u001b[0m \u001b[0mclient_assets\u001b[0m\u001b[0;34m\u001b[0m\u001b[0;34m\u001b[0m\u001b[0m\n\u001b[0;32m----> 4\u001b[0;31m \u001b[0mprint\u001b[0m\u001b[0;34m(\u001b[0m\u001b[0mclient_assets\u001b[0m\u001b[0;34m)\u001b[0m\u001b[0;34m\u001b[0m\u001b[0;34m\u001b[0m\u001b[0m\n\u001b[0m",
            "\u001b[0;31mNameError\u001b[0m: name 'client_assets' is not defined"
          ]
        }
      ]
    },
    {
      "cell_type": "markdown",
      "metadata": {
        "id": "9llozT9XLiqI"
      },
      "source": [
        "**MINI CHALLENGE #4:**\n",
        "- **Create a dictionary with 3 of your favourite stocks and their prices**\n"
      ]
    },
    {
      "cell_type": "code",
      "metadata": {
        "id": "KHOBUBNeKDXr",
        "colab": {
          "base_uri": "https://localhost:8080/"
        },
        "outputId": "6ebe3bbe-fe44-4f6a-e1f5-001f111b838b"
      },
      "source": [
        "stocks = {\"SP500\" : 3000,\n",
        "          \"AAPL\" : 400,\n",
        "          \"TSLA\" : 2200\n",
        "         }\n",
        "print(stocks)"
      ],
      "execution_count": 63,
      "outputs": [
        {
          "output_type": "stream",
          "name": "stdout",
          "text": [
            "{'SP500': 3000, 'AAPL': 400, 'TSLA': 2200}\n"
          ]
        }
      ]
    },
    {
      "cell_type": "markdown",
      "metadata": {
        "id": "6kLIKQOZ6rNe"
      },
      "source": [
        "# 4. STRINGS"
      ]
    },
    {
      "cell_type": "code",
      "metadata": {
        "id": "rDjVcbLd6xJf"
      },
      "source": [
        "# A string in Python is a sequence of characters\n",
        "# String can be enclosed by either double or single quotes\n"
      ],
      "execution_count": null,
      "outputs": []
    },
    {
      "cell_type": "code",
      "metadata": {
        "id": "_UN8zNOJ60ud"
      },
      "source": [
        "# Obtain the datatype\n"
      ],
      "execution_count": null,
      "outputs": []
    },
    {
      "cell_type": "code",
      "metadata": {
        "id": "2r3aHdjn60wz"
      },
      "source": [
        "# Combining two strings together (Let's combine the first and last name of a bank's client)\n"
      ],
      "execution_count": null,
      "outputs": []
    },
    {
      "cell_type": "code",
      "metadata": {
        "id": "8DZ5JbeX601H"
      },
      "source": [
        "# You can combine both strings together and add spaces in between\n"
      ],
      "execution_count": null,
      "outputs": []
    },
    {
      "cell_type": "code",
      "metadata": {
        "id": "zOIOaPKf603q"
      },
      "source": [
        "# Methods on strings\n",
        "# upper will be used to convert the string into upper case\n"
      ],
      "execution_count": null,
      "outputs": []
    },
    {
      "cell_type": "code",
      "metadata": {
        "id": "cX2lIPy-606m"
      },
      "source": [
        "# Split us used to divide up the string into words\n",
        "# The output from split is a list\n"
      ],
      "execution_count": null,
      "outputs": []
    },
    {
      "cell_type": "code",
      "metadata": {
        "id": "sL0bYlxv8PLN"
      },
      "source": [
        "# Let's check that the datatype is list!\n"
      ],
      "execution_count": null,
      "outputs": []
    },
    {
      "cell_type": "code",
      "metadata": {
        "id": "sMlID0mv8Udk"
      },
      "source": [
        "# you can index any element in the list using indexing\n"
      ],
      "execution_count": null,
      "outputs": []
    },
    {
      "cell_type": "code",
      "metadata": {
        "id": "icNCEq2x609e"
      },
      "source": [
        "# you can specify which letter could be choosed to perform the split\n"
      ],
      "execution_count": null,
      "outputs": []
    },
    {
      "cell_type": "markdown",
      "metadata": {
        "id": "9cN9W4bkM-vs"
      },
      "source": [
        "**MINI CHALLENGE #5:**\n",
        "- **Write a code that takes an input from a bank client asking him/her about their feedback regarding the service. The code should split the client input into words and print them on screen**\n"
      ]
    },
    {
      "cell_type": "code",
      "metadata": {
        "id": "cWKRpQ7WOSnu"
      },
      "source": [],
      "execution_count": null,
      "outputs": []
    },
    {
      "cell_type": "markdown",
      "metadata": {
        "id": "EdyxRUooNz5m"
      },
      "source": [
        "**MINI CHALLENGE #6:**\n",
        "- **Write a code that prompts a user requesting his/her e-mail and then extracts the user first name (Note that the e-mail is in firstname.lastname@gmail.com**\n"
      ]
    },
    {
      "cell_type": "code",
      "metadata": {
        "id": "0P41ds4zNrKl"
      },
      "source": [],
      "execution_count": null,
      "outputs": []
    },
    {
      "cell_type": "markdown",
      "metadata": {
        "id": "A0luXBRqEGai"
      },
      "source": [
        "# 5. TUPLES"
      ]
    },
    {
      "cell_type": "code",
      "metadata": {
        "id": "WNh06IuWENEw"
      },
      "source": [
        "# A tuple is a sequence of immutable Python objects.\n",
        "# Tuples are sequences, just like lists.\n",
        "# The differences between tuples and lists are, the tuples cannot be changed unlike lists and tuples use parentheses, whereas lists use square brackets."
      ],
      "execution_count": null,
      "outputs": []
    },
    {
      "cell_type": "code",
      "metadata": {
        "id": "U0fyXOJPENDi"
      },
      "source": [],
      "execution_count": null,
      "outputs": []
    },
    {
      "cell_type": "code",
      "metadata": {
        "id": "STfK4bAoEM_8"
      },
      "source": [],
      "execution_count": null,
      "outputs": []
    },
    {
      "cell_type": "code",
      "metadata": {
        "id": "my6d1Ou-EM-y"
      },
      "source": [
        "# Accessing elements in a tuple\n"
      ],
      "execution_count": null,
      "outputs": []
    },
    {
      "cell_type": "code",
      "metadata": {
        "id": "IIeC1e3qEWz6"
      },
      "source": [
        "# Tuple slicing\n"
      ],
      "execution_count": null,
      "outputs": []
    },
    {
      "cell_type": "code",
      "metadata": {
        "id": "o_yady6jEWwL"
      },
      "source": [
        "# Changing a vlue of a tuple does not work!\n",
        "# 'tuple' object does not support item assignment\n"
      ],
      "execution_count": null,
      "outputs": []
    },
    {
      "cell_type": "code",
      "metadata": {
        "id": "BCgEz7CdEWuP"
      },
      "source": [
        "# Create a New Tuple from existing Tuples\n"
      ],
      "execution_count": null,
      "outputs": []
    },
    {
      "cell_type": "markdown",
      "metadata": {
        "id": "RmZ49NcKPKII"
      },
      "source": [
        "**MINI CHALLENGE #7:**\n",
        "- **Define a tuple with your first name, last name, age and the number of stocks in your portfolio. Find the length and type as well.**\n"
      ]
    },
    {
      "cell_type": "code",
      "metadata": {
        "id": "xMKjCcejQtJI"
      },
      "source": [],
      "execution_count": null,
      "outputs": []
    },
    {
      "cell_type": "markdown",
      "metadata": {
        "id": "B7clmiIJEJF0"
      },
      "source": [
        "# 6. SETS"
      ]
    },
    {
      "cell_type": "code",
      "metadata": {
        "id": "wRAHn1SiEN2I"
      },
      "source": [
        "# A set is an unordered collection of items. Every element is unique (no duplicates).\n",
        "# A set is created by placing all the items (elements) inside curly braces {}, separated by comma or by using the built-in function set().\n",
        "# set of integers\n",
        "\n"
      ],
      "execution_count": null,
      "outputs": []
    },
    {
      "cell_type": "code",
      "metadata": {
        "id": "4Y6cT3ykENzZ"
      },
      "source": [
        "# set do not have duplicates\n"
      ],
      "execution_count": null,
      "outputs": []
    },
    {
      "cell_type": "markdown",
      "metadata": {
        "id": "XjibM376ROGD"
      },
      "source": [
        "**MINI CHALLENGE #8:**\n",
        "- **Remove the duplicates from the following list:**\n",
        "\n",
        "\n",
        "```\n",
        "my_list = ['GOOG', 'APPL', 'T','TSLA','T','AAPL', 5, 6,5]\n",
        "```\n",
        "\n",
        "\n"
      ]
    },
    {
      "cell_type": "code",
      "metadata": {
        "id": "EpKrum8GSOuv"
      },
      "source": [],
      "execution_count": null,
      "outputs": []
    },
    {
      "cell_type": "markdown",
      "metadata": {
        "id": "OlonkaQNGdsP"
      },
      "source": [
        "# MINI CHALLENGE SOLUTIONS"
      ]
    },
    {
      "cell_type": "markdown",
      "metadata": {
        "id": "bDojguHPUkBD"
      },
      "source": [
        "**MINI CHALLENGE #1 SOLUTION:**\n",
        "- **What will this code generate?**\n",
        "```\n",
        "stock_1_price = 20\n",
        "stock_2_price = 30\n",
        "print((stock_1_price < stock_2_price))\n",
        "print(stock_1_price == stock_2_price)\n",
        "```"
      ]
    },
    {
      "cell_type": "code",
      "metadata": {
        "id": "wRRbOc1ZUkBG",
        "colab": {
          "base_uri": "https://localhost:8080/"
        },
        "outputId": "3d90d0f9-25e0-4f83-cbc0-a14155f54d08"
      },
      "source": [
        "stock_1_price = 20\n",
        "stock_2_price = 30\n",
        "print((stock_1_price < stock_2_price))\n",
        "print(stock_1_price == stock_2_price)"
      ],
      "execution_count": null,
      "outputs": [
        {
          "output_type": "stream",
          "name": "stdout",
          "text": [
            "True\n",
            "False\n"
          ]
        }
      ]
    },
    {
      "cell_type": "markdown",
      "metadata": {
        "id": "T1ru2bTNHmoL"
      },
      "source": [
        "**MINI CHALLENGE #2 SOLUTION:**\n",
        "- **Print the first, second and last element in the list**\n",
        "- **Print all elements in the list, first 3 elements, and last three elements**\n",
        "\n",
        "```\n",
        "stocks = [\"GOOG\", \"TSLA\", \"AAPL\", \"T\", \"SP500\", \"BTC\", \"EUR/USD\"]\n",
        "```\n",
        "\n"
      ]
    },
    {
      "cell_type": "code",
      "metadata": {
        "id": "q9ayDKUZGlrZ",
        "colab": {
          "base_uri": "https://localhost:8080/"
        },
        "outputId": "7f7de97c-e971-4e51-8830-e2953fc610d7"
      },
      "source": [
        "stocks = [\"GOOG\", \"TSLA\", \"AAPL\", \"T\", \"SP500\", \"BTC\", \"EUR/USD\"]\n",
        "print(stocks[0])\n",
        "print(stocks[1])\n",
        "print(stocks[-1])"
      ],
      "execution_count": null,
      "outputs": [
        {
          "output_type": "stream",
          "name": "stdout",
          "text": [
            "GOOG\n",
            "TSLA\n",
            "EUR/USD\n"
          ]
        }
      ]
    },
    {
      "cell_type": "code",
      "metadata": {
        "id": "4WgvQ2ZTdJMZ",
        "colab": {
          "base_uri": "https://localhost:8080/"
        },
        "outputId": "583222de-e34e-4ec0-d406-ef2c1eb027e8"
      },
      "source": [
        "print(stocks[:])\n",
        "print(stocks[0:3])\n",
        "print(stocks[4:])"
      ],
      "execution_count": null,
      "outputs": [
        {
          "output_type": "stream",
          "name": "stdout",
          "text": [
            "['GOOG', 'TSLA', 'AAPL', 'T', 'SP500', 'BTC', 'EUR/USD']\n",
            "['GOOG', 'TSLA', 'AAPL']\n",
            "['SP500', 'BTC', 'EUR/USD']\n"
          ]
        }
      ]
    },
    {
      "cell_type": "markdown",
      "metadata": {
        "id": "UkLWVRadJqEx"
      },
      "source": [
        "**MINI CHALLENGE #3 SOLUTION:**\n",
        "- **Print GOOG**\n",
        "- **Print AAPL, GOOG, TSLA**\n",
        "- **Print T with two different ways**\n",
        "\n",
        "```\n",
        "my_list = [\"SP500\", [\"AAPL\", \"GOOG\", \"TSLA\"], \"BTC\", \"T\"]\n",
        "```\n"
      ]
    },
    {
      "cell_type": "code",
      "metadata": {
        "id": "ehC3hFiaJ1tI"
      },
      "source": [
        "my_list = [\"SP500\", [\"AAPL\", \"GOOG\", \"TSLA\"], \"BTC\", \"T\"]"
      ],
      "execution_count": null,
      "outputs": []
    },
    {
      "cell_type": "code",
      "metadata": {
        "id": "gbsBgd3IHtDl",
        "colab": {
          "base_uri": "https://localhost:8080/"
        },
        "outputId": "48fb0906-37aa-46f1-d6ee-16e1ac64bca6"
      },
      "source": [
        "print(my_list[1][1])"
      ],
      "execution_count": null,
      "outputs": [
        {
          "output_type": "stream",
          "name": "stdout",
          "text": [
            "GOOG\n"
          ]
        }
      ]
    },
    {
      "cell_type": "code",
      "metadata": {
        "id": "0jim9gFbJudm",
        "colab": {
          "base_uri": "https://localhost:8080/"
        },
        "outputId": "fa874d47-6912-4d32-8b5d-dada7a5bf0b7"
      },
      "source": [
        "print(my_list[1])"
      ],
      "execution_count": null,
      "outputs": [
        {
          "output_type": "stream",
          "name": "stdout",
          "text": [
            "['AAPL', 'GOOG', 'TSLA']\n"
          ]
        }
      ]
    },
    {
      "cell_type": "code",
      "metadata": {
        "id": "ze7mvHDaJucK",
        "colab": {
          "base_uri": "https://localhost:8080/"
        },
        "outputId": "dc72314c-275f-4ee3-a203-959c73d21300"
      },
      "source": [
        "print(my_list[3])"
      ],
      "execution_count": null,
      "outputs": [
        {
          "output_type": "stream",
          "name": "stdout",
          "text": [
            "T\n"
          ]
        }
      ]
    },
    {
      "cell_type": "code",
      "metadata": {
        "id": "xrSiB-jqJuYA",
        "colab": {
          "base_uri": "https://localhost:8080/"
        },
        "outputId": "18418580-59e3-4efa-d1fb-7be4354ed6ec"
      },
      "source": [
        "print(my_list[-1])"
      ],
      "execution_count": null,
      "outputs": [
        {
          "output_type": "stream",
          "name": "stdout",
          "text": [
            "T\n"
          ]
        }
      ]
    },
    {
      "cell_type": "markdown",
      "metadata": {
        "id": "R3Wx0fsDMJN5"
      },
      "source": [
        "**MINI CHALLENGE #4 SOLUTION:**\n",
        "- **Create a dictionary with 3 of your favourite stocks and their prices**"
      ]
    },
    {
      "cell_type": "code",
      "metadata": {
        "id": "ySbAAjGkMJ7y",
        "colab": {
          "base_uri": "https://localhost:8080/"
        },
        "outputId": "dd06619f-3fbf-4437-a69a-10a80807385b"
      },
      "source": [
        "stocks = {\"SP500\": 3000,\n",
        "          \"AAPL\": 400,\n",
        "          \"TSLA\": 2200}\n",
        "print(stocks)\n"
      ],
      "execution_count": null,
      "outputs": [
        {
          "output_type": "stream",
          "name": "stdout",
          "text": [
            "{'SP500': 3000, 'AAPL': 400, 'TSLA': 2200}\n"
          ]
        }
      ]
    },
    {
      "cell_type": "markdown",
      "metadata": {
        "id": "_4QByu-tNjpA"
      },
      "source": [
        "**MINI CHALLENGE #5 SOLUTION:**\n",
        "- **Write a code that takes an input from a bank client asking him/her about their feedback regarding the service. The code should split the client input into words and print them on screen**\n"
      ]
    },
    {
      "cell_type": "code",
      "metadata": {
        "id": "nLWrLgB-NjpB"
      },
      "source": [
        "my_string = str(input(\"What did we do at the bank today? are you satisfied with the service\"))\n",
        "words = my_string.split(\" \")\n",
        "print(\"Here are the list of words you entered:\", words)"
      ],
      "execution_count": null,
      "outputs": []
    },
    {
      "cell_type": "markdown",
      "metadata": {
        "id": "bFCp0wXKOqmz"
      },
      "source": [
        "**MINI CHALLENGE #6 SOLUTION:**\n",
        "- **Write a code that prompts a user requesting his/her e-mail and then extracts the user first name (Note that the e-mail is in firstname.lastname@gmail.com**\n"
      ]
    },
    {
      "cell_type": "code",
      "metadata": {
        "id": "mtgJJ3FaOqm0"
      },
      "source": [
        "input_str = input(\"Welcome to the bank, please enter your e-mail address:\")\n",
        "out_str = input_str.split('@')\n",
        "out_str = out_str[0].split('.')\n",
        "print(out_str[0])"
      ],
      "execution_count": null,
      "outputs": []
    },
    {
      "cell_type": "markdown",
      "metadata": {
        "id": "L0OUSq6pQhNI"
      },
      "source": [
        "**MINI CHALLENGE #7 SOLUTION:**\n",
        "- **Define a tuple with your first name, last name, age and the number of stocks in your portfolio. Find the length and type as well.**\n"
      ]
    },
    {
      "cell_type": "code",
      "metadata": {
        "id": "aACA3yR3QhNJ"
      },
      "source": [
        "my_tuple = (\"Ryan\", \"ahmed\", 25, 10)\n",
        "print(my_tuple)"
      ],
      "execution_count": null,
      "outputs": []
    },
    {
      "cell_type": "code",
      "metadata": {
        "id": "ek6Lj_1YQhNN"
      },
      "source": [
        "len(my_tuple)"
      ],
      "execution_count": null,
      "outputs": []
    },
    {
      "cell_type": "code",
      "metadata": {
        "id": "wjbkGK-mQhNS"
      },
      "source": [
        "type(my_tuple)"
      ],
      "execution_count": null,
      "outputs": []
    },
    {
      "cell_type": "markdown",
      "metadata": {
        "id": "RrBoe1NJRmBi"
      },
      "source": [
        "**MINI CHALLENGE #8 SOLUTION:**\n",
        "- **Remove the duplicates from the following list:**\n",
        "\n",
        "\n",
        "```\n",
        "my_list = ['GOOG', 'APPL', 'T','TSLA','T','AAPL', 5, 6,5]\n",
        "```\n",
        "\n",
        "\n"
      ]
    },
    {
      "cell_type": "code",
      "metadata": {
        "id": "e3rGkHmnRnPf"
      },
      "source": [
        "my_list = ['GOOG', 'APPL', 'T','TSLA','T','AAPL', 5, 6, 5]\n",
        "out_list = list(set(my_list))\n",
        "print(out_list)"
      ],
      "execution_count": null,
      "outputs": []
    },
    {
      "cell_type": "code",
      "metadata": {
        "id": "Cwtyay_9UiZD"
      },
      "source": [],
      "execution_count": null,
      "outputs": []
    }
  ]
}