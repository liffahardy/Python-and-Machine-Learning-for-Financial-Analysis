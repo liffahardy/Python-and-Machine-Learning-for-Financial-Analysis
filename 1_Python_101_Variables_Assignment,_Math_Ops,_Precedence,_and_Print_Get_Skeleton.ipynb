{
  "nbformat": 4,
  "nbformat_minor": 0,
  "metadata": {
    "colab": {
      "provenance": [],
      "gpuType": "T4",
      "include_colab_link": true
    },
    "kernelspec": {
      "name": "python3",
      "display_name": "Python 3"
    },
    "accelerator": "GPU"
  },
  "cells": [
    {
      "cell_type": "markdown",
      "metadata": {
        "id": "view-in-github",
        "colab_type": "text"
      },
      "source": [
        "<a href=\"https://colab.research.google.com/github/liffahardy/Python-bro/blob/main/1_Python_101_Variables_Assignment%2C_Math_Ops%2C_Precedence%2C_and_Print_Get_Skeleton.ipynb\" target=\"_parent\"><img src=\"https://colab.research.google.com/assets/colab-badge.svg\" alt=\"Open In Colab\"/></a>"
      ]
    },
    {
      "cell_type": "markdown",
      "metadata": {
        "id": "B1KBXIYhkuw5"
      },
      "source": [
        "# 1. VARIABLES ASSIGNMENT"
      ]
    },
    {
      "cell_type": "code",
      "metadata": {
        "id": "wsrqiWxMlQcd"
      },
      "source": [
        "# Define a variable named \"portfolio_1\" and assign a number (integer) to it\n"
      ],
      "execution_count": null,
      "outputs": []
    },
    {
      "cell_type": "code",
      "source": [
        "portfolio_1 = 5000"
      ],
      "metadata": {
        "id": "vsGgg9SOAjro"
      },
      "execution_count": 1,
      "outputs": []
    },
    {
      "cell_type": "code",
      "source": [
        "portfolio_1"
      ],
      "metadata": {
        "colab": {
          "base_uri": "https://localhost:8080/"
        },
        "id": "fdfmXuKPAs_O",
        "outputId": "ef3076bb-db5d-447f-b235-03714b73c7a5"
      },
      "execution_count": 2,
      "outputs": [
        {
          "output_type": "execute_result",
          "data": {
            "text/plain": [
              "5000"
            ]
          },
          "metadata": {},
          "execution_count": 2
        }
      ]
    },
    {
      "cell_type": "code",
      "metadata": {
        "id": "_7BUQ4lalVpE",
        "colab": {
          "base_uri": "https://localhost:8080/"
        },
        "outputId": "58fb87c7-5be8-4175-c34b-a8db9177194e"
      },
      "source": [
        "# Let's view \"portfolio_1\"\n",
        "portfolio_1"
      ],
      "execution_count": 3,
      "outputs": [
        {
          "output_type": "execute_result",
          "data": {
            "text/plain": [
              "5000"
            ]
          },
          "metadata": {},
          "execution_count": 3
        }
      ]
    },
    {
      "cell_type": "code",
      "metadata": {
        "id": "5RLjbN6alXBn"
      },
      "source": [
        "# Define a variable named \"portfolio_2\" and assign a number (float) to it\n",
        "portfolio_2 = 2000.5"
      ],
      "execution_count": 4,
      "outputs": []
    },
    {
      "cell_type": "code",
      "metadata": {
        "id": "XaseHcnvlY7V",
        "colab": {
          "base_uri": "https://localhost:8080/"
        },
        "outputId": "e344d698-bae2-47b5-98c1-1401a8756253"
      },
      "source": [
        "# Let's view \"portfolio_2\"\n",
        "portfolio_2"
      ],
      "execution_count": 5,
      "outputs": [
        {
          "output_type": "execute_result",
          "data": {
            "text/plain": [
              "2000.5"
            ]
          },
          "metadata": {},
          "execution_count": 5
        }
      ]
    },
    {
      "cell_type": "code",
      "metadata": {
        "id": "1treMfL5phXx"
      },
      "source": [
        "# Let's overwrite \"portfolio_2\" (assume your portfolio value increased)\n",
        "portfolio_2 = 3000.5"
      ],
      "execution_count": 6,
      "outputs": []
    },
    {
      "cell_type": "code",
      "metadata": {
        "id": "QaBaDH0fp5cf",
        "colab": {
          "base_uri": "https://localhost:8080/"
        },
        "outputId": "ba30ec4a-223d-4538-f81d-7292a4dd58fb"
      },
      "source": [
        "# Notice that \"portfolio_2\" will only contain the most recent value\n",
        "portfolio_2"
      ],
      "execution_count": 7,
      "outputs": [
        {
          "output_type": "execute_result",
          "data": {
            "text/plain": [
              "3000.5"
            ]
          },
          "metadata": {},
          "execution_count": 7
        }
      ]
    },
    {
      "cell_type": "code",
      "metadata": {
        "id": "fqZRkUkilb-5",
        "colab": {
          "base_uri": "https://localhost:8080/"
        },
        "outputId": "d60c7578-3db5-409f-8aa5-bcab68da5455"
      },
      "source": [
        "# Get the type of \"portfolio_1\" which is integer\n",
        "# integer is a whole number (no decimals) that could be positive or negative\n",
        "type(portfolio_1)"
      ],
      "execution_count": 8,
      "outputs": [
        {
          "output_type": "execute_result",
          "data": {
            "text/plain": [
              "int"
            ]
          },
          "metadata": {},
          "execution_count": 8
        }
      ]
    },
    {
      "cell_type": "code",
      "metadata": {
        "id": "T0Rszu5xlceK",
        "colab": {
          "base_uri": "https://localhost:8080/"
        },
        "outputId": "cd00f59d-7f1f-42df-e621-a1132716ccc7"
      },
      "source": [
        "# Get the type of \"portfolio_2\" which is float\n",
        "# Float are real numbers with a decimal point dividing the integer and fractional parts\n",
        "type(portfolio_2)"
      ],
      "execution_count": 9,
      "outputs": [
        {
          "output_type": "execute_result",
          "data": {
            "text/plain": [
              "float"
            ]
          },
          "metadata": {},
          "execution_count": 9
        }
      ]
    },
    {
      "cell_type": "markdown",
      "metadata": {
        "id": "75YN6NcVlv50"
      },
      "source": [
        "**MINI CHALLENGE #1:**\n",
        "- **We defined a variable AMZN (Ticker symbol for Amazon stock) and we assigned these 3 values listed below to it. Without executing any code cells, what will these lines of code generate?**\n",
        "- **Verify your answer by executing the code cells**\n",
        "\n",
        "\n",
        "\n",
        "```\n",
        "AMZN = 3324\n",
        "AMZN = 3400\n",
        "AMZN = 3530\n",
        "AMZN\n",
        "```\n"
      ]
    },
    {
      "cell_type": "code",
      "metadata": {
        "id": "AbXq1BsUpcpu",
        "colab": {
          "base_uri": "https://localhost:8080/"
        },
        "outputId": "0733cf25-215e-4937-c4c6-f123dc741222"
      },
      "source": [
        "AMZN = 3324\n",
        "AMZN = 3400\n",
        "AMZN = 3530\n",
        "AMZN"
      ],
      "execution_count": 10,
      "outputs": [
        {
          "output_type": "execute_result",
          "data": {
            "text/plain": [
              "3530"
            ]
          },
          "metadata": {},
          "execution_count": 10
        }
      ]
    },
    {
      "cell_type": "markdown",
      "metadata": {
        "id": "m-cJsnjeoFOa"
      },
      "source": [
        "**MINI CHALLENGE #2:**\n",
        "- **We defined a variable AAPL (Ticker symbol for Apple stock) and we assigned these 2 values listed below to it. Without executing any code cells, what will these lines of code generate?**\n",
        "- **Verify your answer by executing the code cells**\n",
        "\n",
        "\n",
        "\n",
        "```\n",
        "AAPL = 112\n",
        "AAPL = 115.3\n",
        "type(AAPL)\n",
        "```\n"
      ]
    },
    {
      "cell_type": "code",
      "metadata": {
        "id": "wjaFVDJ2oESl",
        "colab": {
          "base_uri": "https://localhost:8080/"
        },
        "outputId": "6d79d469-4fc2-4022-d1fd-8cbaa3eb4656"
      },
      "source": [
        "AAPL = 112\n",
        "AAPL = 115.3\n",
        "type(AAPL)"
      ],
      "execution_count": 11,
      "outputs": [
        {
          "output_type": "execute_result",
          "data": {
            "text/plain": [
              "float"
            ]
          },
          "metadata": {},
          "execution_count": 11
        }
      ]
    },
    {
      "cell_type": "markdown",
      "metadata": {
        "id": "lsCfJJEkkqGQ"
      },
      "source": [
        "# 2. MATH OPERATIONS"
      ]
    },
    {
      "cell_type": "code",
      "metadata": {
        "id": "vxspxvj2qTrx",
        "colab": {
          "base_uri": "https://localhost:8080/"
        },
        "outputId": "1b68947b-0718-4b92-bc2c-1f077c73f2f9"
      },
      "source": [
        "# Define a variable named AAPL and initialize it with 5 indicating that we own 5 stocks\n",
        "# Let's assume that we bought an additional stock so now we have 6 stocks instead of 5\n",
        "# We can increment AAPL by 1 stock as follows:\n",
        "AAPL = 5\n",
        "AAPL = AAPL + 1\n",
        "AAPL"
      ],
      "execution_count": 15,
      "outputs": [
        {
          "output_type": "execute_result",
          "data": {
            "text/plain": [
              "6"
            ]
          },
          "metadata": {},
          "execution_count": 15
        }
      ]
    },
    {
      "cell_type": "code",
      "metadata": {
        "id": "ouiM4Bjar5aG",
        "colab": {
          "base_uri": "https://localhost:8080/"
        },
        "outputId": "edd281bf-0cb5-4d29-91ac-7b30058dc97b"
      },
      "source": [
        "# Alternatively, we can increment the variable AAPL by 1 as follows:\n",
        "AAPL = 5\n",
        "AAPL += 1\n",
        "AAPL"
      ],
      "execution_count": 16,
      "outputs": [
        {
          "output_type": "execute_result",
          "data": {
            "text/plain": [
              "6"
            ]
          },
          "metadata": {},
          "execution_count": 16
        }
      ]
    },
    {
      "cell_type": "code",
      "metadata": {
        "id": "zkO001-qcZc3",
        "colab": {
          "base_uri": "https://localhost:8080/"
        },
        "outputId": "f767dc6f-aaef-4e50-8411-01ea94cbc05f"
      },
      "source": [
        "# Let's assume that the price of AAPL stock is $260 and we currently have 5 AAPL stocks in our portfolio\n",
        "# We can calculate the total portfolio value (account balance) as follows:\n",
        "AAPL_count = 5\n",
        "AAPL_price = 260\n",
        "account_balance = AAPL_count * AAPL_price\n",
        "account_balance"
      ],
      "execution_count": 17,
      "outputs": [
        {
          "output_type": "execute_result",
          "data": {
            "text/plain": [
              "1300"
            ]
          },
          "metadata": {},
          "execution_count": 17
        }
      ]
    },
    {
      "cell_type": "code",
      "metadata": {
        "id": "4bXP93aqejr1",
        "colab": {
          "base_uri": "https://localhost:8080/"
        },
        "outputId": "e1655bd8-844b-452c-959c-60b6caafb9e5"
      },
      "source": [
        "# Let's assume you have $20000 USD in our account\n",
        "# We want to buy AMZN stocks using the total amount\n",
        "# AMZN stock is priced at $3116 each\n",
        "account_balance = 20000\n",
        "account_balance\n"
      ],
      "execution_count": 18,
      "outputs": [
        {
          "output_type": "execute_result",
          "data": {
            "text/plain": [
              "20000"
            ]
          },
          "metadata": {},
          "execution_count": 18
        }
      ]
    },
    {
      "cell_type": "code",
      "metadata": {
        "id": "Mc569vLOqxzg",
        "colab": {
          "base_uri": "https://localhost:8080/"
        },
        "outputId": "234ebf78-9823-4035-dafc-ecbe4b5bb4f7"
      },
      "source": [
        "# Divide the account balance by Amazon stock price and place the answer in units\n",
        "AMZN_price = 3116\n",
        "units = account_balance / AMZN_price\n",
        "units"
      ],
      "execution_count": 19,
      "outputs": [
        {
          "output_type": "execute_result",
          "data": {
            "text/plain": [
              "6.418485237483954"
            ]
          },
          "metadata": {},
          "execution_count": 19
        }
      ]
    },
    {
      "cell_type": "markdown",
      "metadata": {
        "id": "8UaT7FRdNnCQ"
      },
      "source": [
        "**MINI CHALLENGE #3:**\n",
        "- **Write a code that calculates the total value of a portfolio assuming that you own 15 Google stocks (Sticker Symbol: GOOG) priced at 1500 each**\n"
      ]
    },
    {
      "cell_type": "code",
      "metadata": {
        "id": "qMFnXorONnoa",
        "colab": {
          "base_uri": "https://localhost:8080/"
        },
        "outputId": "a84192cb-d7a0-4dac-e16c-a689bd1d4dce"
      },
      "source": [
        "GOOG_price = 1500\n",
        "GOOG_count = 15\n",
        "account_balance = GOOG_price * GOOG_count\n",
        "account_balance"
      ],
      "execution_count": 20,
      "outputs": [
        {
          "output_type": "execute_result",
          "data": {
            "text/plain": [
              "22500"
            ]
          },
          "metadata": {},
          "execution_count": 20
        }
      ]
    },
    {
      "cell_type": "markdown",
      "metadata": {
        "id": "iB_6pgJeNnCV"
      },
      "source": [
        "**MINI CHALLENGE #4:**\n",
        "- **Write a code that takes in Google (GOOG) stock prices at two days and calculate the return:**\n",
        "  - **GOOG price on day 1 = \\$260**\n",
        "  - **GOOG price on day 2 = \\$280**"
      ]
    },
    {
      "cell_type": "code",
      "source": [
        "GOOG_price_1 = 260\n",
        "GOOG_price_2 = 280\n",
        "price_diff = GOOG_price_2 - GOOG_price_1\n",
        "price_diff\n",
        "percentage_change = price_diff / GOOG_price_1 * 100\n",
        "percentage_change"
      ],
      "metadata": {
        "colab": {
          "base_uri": "https://localhost:8080/"
        },
        "id": "Z7UG0yIngHnF",
        "outputId": "9979c1b8-23dd-4425-ad4a-cddd6b50bf33"
      },
      "execution_count": 22,
      "outputs": [
        {
          "output_type": "execute_result",
          "data": {
            "text/plain": [
              "7.6923076923076925"
            ]
          },
          "metadata": {},
          "execution_count": 22
        }
      ]
    },
    {
      "cell_type": "markdown",
      "metadata": {
        "id": "b_4wxmCklMQE"
      },
      "source": [
        "# 3. ORDER OF OPERATIONS (PRECEDENCE)"
      ]
    },
    {
      "cell_type": "code",
      "metadata": {
        "id": "PDPpISzEkov3",
        "colab": {
          "base_uri": "https://localhost:8080/"
        },
        "outputId": "42bedb85-5508-4500-a434-71a231109ba1"
      },
      "source": [
        "# add 3 and 4 and then multiply the answer by 5\n",
        "# Note that parantheses have the highest precedence\n",
        "(3+4) * 5"
      ],
      "execution_count": 23,
      "outputs": [
        {
          "output_type": "execute_result",
          "data": {
            "text/plain": [
              "35"
            ]
          },
          "metadata": {},
          "execution_count": 23
        }
      ]
    },
    {
      "cell_type": "code",
      "metadata": {
        "id": "lqvGyX4psG6L",
        "colab": {
          "base_uri": "https://localhost:8080/"
        },
        "outputId": "9d118069-b635-4e94-854f-33e82942e5b3"
      },
      "source": [
        "# Multiplication has higher precedence compared to addition\n",
        "3+4*5"
      ],
      "execution_count": 24,
      "outputs": [
        {
          "output_type": "execute_result",
          "data": {
            "text/plain": [
              "23"
            ]
          },
          "metadata": {},
          "execution_count": 24
        }
      ]
    },
    {
      "cell_type": "code",
      "metadata": {
        "id": "Nx2IPN34sI0A",
        "colab": {
          "base_uri": "https://localhost:8080/"
        },
        "outputId": "6e245b12-76a6-474b-d101-e5290eed25b8"
      },
      "source": [
        "# Division has higher precedence compared to addition\n",
        "16/4 + 25/5"
      ],
      "execution_count": 26,
      "outputs": [
        {
          "output_type": "execute_result",
          "data": {
            "text/plain": [
              "9.0"
            ]
          },
          "metadata": {},
          "execution_count": 26
        }
      ]
    },
    {
      "cell_type": "code",
      "metadata": {
        "id": "A-sBw_wsdRTc"
      },
      "source": [],
      "execution_count": null,
      "outputs": []
    },
    {
      "cell_type": "markdown",
      "metadata": {
        "id": "LD0jeVJddRrf"
      },
      "source": [
        "**MINI CHALLENGE #5:**\n",
        "- **Assume that you own 15 shares of AAPL stock priced at \\$150 a share. Apple announced the launch of 5 new products with exceptional features so the stock price increased to $170 a share. Calculate the total profit.**\n",
        "\n",
        "\n",
        "\n",
        "\n"
      ]
    },
    {
      "cell_type": "code",
      "metadata": {
        "id": "ieENt2DUNwDC",
        "colab": {
          "base_uri": "https://localhost:8080/"
        },
        "outputId": "e3ef3100-d292-4100-de29-a32b269c6b4e"
      },
      "source": [
        "AAPL_shares_count = 15\n",
        "AAPL_price_1 = 150\n",
        "AAPL_price_2 = 170\n",
        "profit = (AAPL_price_2 - AAPL_price_1) * AAPL_shares_count\n",
        "profit"
      ],
      "execution_count": 29,
      "outputs": [
        {
          "output_type": "execute_result",
          "data": {
            "text/plain": [
              "300"
            ]
          },
          "metadata": {},
          "execution_count": 29
        }
      ]
    },
    {
      "cell_type": "markdown",
      "metadata": {
        "id": "s79S7MtycPGX"
      },
      "source": [
        "**MINI CHALLENGE #6:**\n",
        "- **Write a code that performs the following mathematical operation: z = |x − y| * (x + y)**"
      ]
    },
    {
      "cell_type": "code",
      "metadata": {
        "id": "yGVvKkDKc0LR",
        "colab": {
          "base_uri": "https://localhost:8080/"
        },
        "outputId": "97f718ad-6d65-4072-a5c5-3c3bad7e05dd"
      },
      "source": [
        "x = 4\n",
        "y = 2\n",
        "z = abs(x-y) * (x+y)\n",
        "z"
      ],
      "execution_count": 31,
      "outputs": [
        {
          "output_type": "execute_result",
          "data": {
            "text/plain": [
              "12"
            ]
          },
          "metadata": {},
          "execution_count": 31
        }
      ]
    },
    {
      "cell_type": "markdown",
      "metadata": {
        "id": "Jvxd_A696qnl"
      },
      "source": [
        "# 4. PRINT OPERATION"
      ]
    },
    {
      "cell_type": "code",
      "metadata": {
        "id": "74NV4Ix36wE2"
      },
      "source": [
        "# Print function is used to print elements on the screen\n",
        "# Define a string x\n",
        "# A string in Python is a sequence of characters\n",
        "# String in python are surrounded by single or double quotation marks\n"
      ],
      "execution_count": null,
      "outputs": []
    },
    {
      "cell_type": "code",
      "metadata": {
        "id": "08UQhKoR8d3H"
      },
      "source": [
        "# Obtain the data type for 'x'\n"
      ],
      "execution_count": null,
      "outputs": []
    },
    {
      "cell_type": "code",
      "metadata": {
        "id": "1nHBcL7D61YQ"
      },
      "source": [
        "# Print x\n"
      ],
      "execution_count": null,
      "outputs": []
    },
    {
      "cell_type": "code",
      "metadata": {
        "id": "7JUqe3DF7WQv"
      },
      "source": [
        "# Define a string and put 'Apple Inc.' in it\n"
      ],
      "execution_count": null,
      "outputs": []
    },
    {
      "cell_type": "code",
      "metadata": {
        "id": "J_r5_BGt7Wsg"
      },
      "source": [
        "# The format() method formats the specified value and insert it in the placeholder.\n",
        "# The placeholder is defined using curly braces: {}\n"
      ],
      "execution_count": null,
      "outputs": []
    },
    {
      "cell_type": "code",
      "metadata": {
        "id": "cn5wkGcL7Wqs"
      },
      "source": [],
      "execution_count": null,
      "outputs": []
    },
    {
      "cell_type": "code",
      "metadata": {
        "id": "mcIEXuw47Wpk"
      },
      "source": [
        "# You can place two or more placeholders with print function\n"
      ],
      "execution_count": null,
      "outputs": []
    },
    {
      "cell_type": "markdown",
      "metadata": {
        "id": "__Ybj8rmGKpY"
      },
      "source": [
        "**MINI CHALLENGE #7:**\n",
        "- **Write a code that print out the above statement along with AAPL ticker**\n",
        "- **i.e.: I own 30 shares of Apple Inc.(AAPL)**"
      ]
    },
    {
      "cell_type": "code",
      "metadata": {
        "id": "i6LmOCF6Gd6G"
      },
      "source": [],
      "execution_count": null,
      "outputs": []
    },
    {
      "cell_type": "markdown",
      "metadata": {
        "id": "hp9P-qXN-Gll"
      },
      "source": [
        "# 5. GET USER INPUT"
      ]
    },
    {
      "cell_type": "code",
      "metadata": {
        "id": "FFghOQVi7Wh_"
      },
      "source": [
        "# input is a built-in function in python\n",
        "# Get bank client name as an input and print it out on the screen\n"
      ],
      "execution_count": null,
      "outputs": []
    },
    {
      "cell_type": "code",
      "metadata": {
        "id": "u4D5GDGP7Wgm"
      },
      "source": [
        "# Obtain bank client data such as name, age and assets and print them all out on the screen\n"
      ],
      "execution_count": null,
      "outputs": []
    },
    {
      "cell_type": "code",
      "metadata": {
        "id": "W6hQp4YP7Wdr"
      },
      "source": [
        "# Obtain user inputs, perform mathematical operation, and print the results\n",
        "# Note: Are you getting an error? Move to the next code cell\n"
      ],
      "execution_count": null,
      "outputs": []
    },
    {
      "cell_type": "code",
      "metadata": {
        "id": "abPg-86q7Waq"
      },
      "source": [
        "# Convert from string datatype to integer datatype prior to performing addition\n"
      ],
      "execution_count": null,
      "outputs": []
    },
    {
      "cell_type": "markdown",
      "metadata": {
        "id": "L8v5D4y1CIUQ"
      },
      "source": [
        "**MINI CHALLENGE #8:**\n",
        "- **Write a code that takes in the name of the stock, price at which it is selling, the number of stocks that you want to own and prints out the total funds required to buy this stock. Find a sample expected output below:**\n",
        "\n",
        "  - Enter the price of the stock you want to buy: 3000  \n",
        "  - Enter the number of stocks that you want to buy: 5\n",
        "  - Enter the name of the stock that you want to buy: AMZN\n",
        "  - The total funds required to buy 5 number of AMZN stocks at 3000 is 15000\n"
      ]
    },
    {
      "cell_type": "markdown",
      "metadata": {
        "id": "Jm-0XhPntGtK"
      },
      "source": [
        "# EXCELLENT JOB"
      ]
    },
    {
      "cell_type": "markdown",
      "metadata": {
        "id": "_wuaDbzWm-i8"
      },
      "source": [
        "# MINI CHALLENGES SOLUTIONS"
      ]
    },
    {
      "cell_type": "markdown",
      "metadata": {
        "id": "Xq-Y8OW0nG8O"
      },
      "source": [
        "**MINI CHALLENGE #1:**\n",
        "- **We defined a variable AMZN (Ticker symbol for Amazon stock) and we assigned these 3 values listed below to it. Without executing any code cells, what will these lines of code generate?**\n",
        "- **Verify your answer by executing the code cells**\n",
        "\n",
        "\n",
        "\n",
        "```\n",
        "AMZN = 3324\n",
        "AMZN = 3400\n",
        "AMZN = 3530\n",
        "AMZN\n",
        "```\n"
      ]
    },
    {
      "cell_type": "code",
      "metadata": {
        "id": "R_CHNPWbnAf0"
      },
      "source": [
        "# The output of this code is 3530\n",
        "# Initially we put 3324 in AMZN, then we overwrite it by placing 3400 in AMZN, and then 3530 in AMZN\n",
        "AMZN = 3324\n",
        "AMZN = 3400\n",
        "AMZN = 3530\n",
        "AMZN"
      ],
      "execution_count": null,
      "outputs": []
    },
    {
      "cell_type": "markdown",
      "metadata": {
        "id": "0tFG_HiJoWiM"
      },
      "source": [
        "**MINI CHALLENGE #2:**\n",
        "- **We defined a variable AAPL (Ticker symbol for Apple stock) and we assigned these 2 values listed below to it. Without executing any code cells, what will these lines of code generate?**\n",
        "- **Verify your answer by executing the code cells**\n",
        "\n",
        "\n",
        "\n",
        "```\n",
        "AAPL = 112\n",
        "AAPL = 115.3\n",
        "type(AAPL)\n",
        "```"
      ]
    },
    {
      "cell_type": "code",
      "metadata": {
        "id": "p449NLcAnCbu"
      },
      "source": [
        "AAPL = 112\n",
        "AAPL = 115.3\n",
        "type(AAPL)"
      ],
      "execution_count": null,
      "outputs": []
    },
    {
      "cell_type": "markdown",
      "metadata": {
        "id": "ayH1UnrYYokG"
      },
      "source": [
        "**MINI CHALLENGE #3 SOLUTION:**\n",
        "- **Write a code that calculates the total value of a portfolio assuming that you own 15 Google stocks (Sticker Symbol: GOOG) priced at 1500 each**\n"
      ]
    },
    {
      "cell_type": "code",
      "metadata": {
        "id": "6XGSaa4uoZgs"
      },
      "source": [
        "price  = 1500\n",
        "x  = 15\n",
        "amount = x * price\n",
        "amount"
      ],
      "execution_count": null,
      "outputs": []
    },
    {
      "cell_type": "markdown",
      "metadata": {
        "id": "kfyhdekfaUnr"
      },
      "source": [
        "**MINI CHALLENGE #4 SOLUTION:**\n",
        "- **Write a code that takes in Google (GOOG) stock prices at two days and calculate the return:**\n",
        "  - **GOOG price on day 1 = \\$260**\n",
        "  - **GOOG price on day 2 = \\$280**"
      ]
    },
    {
      "cell_type": "code",
      "metadata": {
        "id": "SUdMEr51Y0cR"
      },
      "source": [
        "GOOG_price_1 = 260\n",
        "GOOG_price_2 = 280\n",
        "\n",
        "price_diff = GOOG_price_2 - GOOG_price_1\n",
        "percentage_change = price_diff / GOOG_price_1 * 100\n",
        "\n",
        "percentage_change"
      ],
      "execution_count": null,
      "outputs": []
    },
    {
      "cell_type": "markdown",
      "metadata": {
        "id": "fSJnUnEvdv3T"
      },
      "source": [
        "**MINI CHALLENGE #5 SOLUTION:**\n",
        "- **Assume that you own 15 shares of AAPL stock priced at \\$150 a share. Apple announced the launch of 5 new products with exceptional features so the stock price increased to $170 a share. Calculate the total profit.**\n"
      ]
    },
    {
      "cell_type": "code",
      "metadata": {
        "id": "xf-UX5aFd11W"
      },
      "source": [
        "AAPL_new = 170\n",
        "AAPL_old = 150\n",
        "num_shares = 15\n",
        "profit = (AAPL_new - AAPL_old) * num_shares\n",
        "profit"
      ],
      "execution_count": null,
      "outputs": []
    },
    {
      "cell_type": "markdown",
      "metadata": {
        "id": "z0zgdSWqc2oa"
      },
      "source": [
        "**MINI CHALLENGE #6 SOLUTION:**\n",
        "- **Write a code that performs the following mathematical operation: z = |x − y| * (x + y)**"
      ]
    },
    {
      "cell_type": "code",
      "metadata": {
        "id": "zILwh7ILc4kq"
      },
      "source": [
        "x = 4\n",
        "y = 2\n",
        "z = abs(x-y) * (x+y)"
      ],
      "execution_count": null,
      "outputs": []
    },
    {
      "cell_type": "markdown",
      "metadata": {
        "id": "GSto5juvGlGM"
      },
      "source": [
        "**MINI CHALLENGE #7 SOLUTION:**\n",
        "- **Write a code that print out the above statement along with AAPL ticker**\n",
        "- **i.e.: I own 30 shares of Apple Inc.(AAPL)**"
      ]
    },
    {
      "cell_type": "code",
      "metadata": {
        "id": "6YfhUSPhGn46"
      },
      "source": [
        "ticker = 'AAPL'\n",
        "print(\"I own {} shares of {}({})\".format(shares, company_name, ticker))"
      ],
      "execution_count": null,
      "outputs": []
    },
    {
      "cell_type": "markdown",
      "metadata": {
        "id": "iKU27yueFUoI"
      },
      "source": [
        "**MINI CHALLENGE #8 SOLUTION:**\n",
        "- **Write a code that takes in the name of the stock, price at which it is selling, the number of stocks that you want to own and prints out the total funds required to buy this stock. Find a sample expected output below:**\n",
        "\n",
        "  - Enter the price of the stock you want to buy: 3000  \n",
        "  - Enter the number of stocks that you want to buy: 5\n",
        "  - Enter the name of the stock that you want to buy: AMZN\n",
        "  - The total funds required to buy 5 number of AMZN stocks at 3000 is 15000\n",
        "\n"
      ]
    },
    {
      "cell_type": "code",
      "metadata": {
        "id": "YsOyGpwiFWDK"
      },
      "source": [
        "x = input(\"Enter the price of the stock you want to buy: \")\n",
        "x = int(x)\n",
        "y = input(\"Enter the number of stocks that you want to buy: \")\n",
        "y = int(y)\n",
        "z = input(\"Enter the name of the stock that you want to buy: \")\n",
        "print('The total funds required to buy {} number of {} stocks at {} is {}'.format(y,z,x, x*y))"
      ],
      "execution_count": null,
      "outputs": []
    },
    {
      "cell_type": "code",
      "metadata": {
        "id": "CDRHLx0Tah7T"
      },
      "source": [],
      "execution_count": null,
      "outputs": []
    }
  ]
}